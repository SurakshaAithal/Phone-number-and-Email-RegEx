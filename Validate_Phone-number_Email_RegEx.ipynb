{
 "cells": [
  {
   "cell_type": "code",
   "execution_count": 149,
   "metadata": {},
   "outputs": [],
   "source": [
    "# Check if running correct version\n",
    "\n",
    "import sys\n",
    "if sys.version_info.major != 3:\n",
    "    raise ValueError(\"You must use Python 3.\")\n",
    "if sys.version_info.minor < 4 :\n",
    "    raise ValueError(\"You must use at least Python 3.4\")\n",
    "if sys.version_info.minor < 6:\n",
    "    print(\"Recommended Python Version is 3.6\")"
   ]
  },
  {
   "cell_type": "markdown",
   "metadata": {},
   "source": [
    "## 1.1 Phone Numbers\n",
    "\n",
    "The German country code is always _+49_ or _0049_. If a country code is given, the next number cannot be a _0_. If this number starts with a _1_, it is a mobile phone. In this case, the next three numbers (with the _1_) are the area code. The remaining numbers are the number.\n",
    "If it is not a mobile number, just use the remaining numbers. (Meaning: No area code detection, if not a mobile number)"
   ]
  },
  {
   "cell_type": "code",
   "execution_count": 150,
   "metadata": {},
   "outputs": [],
   "source": [
    "import re\n",
    "import nltk\n",
    "test_phone_numbers = [\n",
    "    \"+49174321324\",\n",
    "    \"0164883423\",\n",
    "    \"0049(0)16483311724\",\n",
    "    \"+49-8332-3010\",\n",
    "    \"00498513994\",\n",
    "    \"0164 5554454\",\n",
    "    \"0851 509\",\n",
    "    \"0851 509-0\",\n",
    "    \"(0851) 3394\"\n",
    "]"
   ]
  },
  {
   "cell_type": "code",
   "execution_count": 151,
   "metadata": {},
   "outputs": [],
   "source": [
    "gold_phone_numbers = [\n",
    "    \"+49 174 321324\",\n",
    "    \"+49 164 883423\",\n",
    "    \"+49 164 83311724\",\n",
    "    \"+49 83323010\",\n",
    "    \"+49 8513994\",\n",
    "    \"+49 164 5554454\",\n",
    "    \"+49 851509\",\n",
    "    \"+49 8515090\",\n",
    "    \"+49 8513394\"\n",
    "]"
   ]
  },
  {
   "cell_type": "code",
   "execution_count": 152,
   "metadata": {},
   "outputs": [],
   "source": [
    "def validate_phone(parsed_numbers):\n",
    "    for parsed, test, gold in zip(parsed_numbers, test_phone_numbers, gold_phone_numbers):\n",
    "        if parsed != gold:\n",
    "            print(\"WRONG   → \\n\\t Input : {}\\n\\t Gold  : {}\\n\\t Parsed: {}\".format(test, gold, parsed))\n",
    "        else:\n",
    "            print(\"CORRECT → \\n\\t Input : {}\\n\\t Gold  : {}\\n\\t Parsed: {}\".format(test, gold, parsed))"
   ]
  },
  {
   "cell_type": "code",
   "execution_count": 153,
   "metadata": {},
   "outputs": [
    {
     "name": "stdout",
     "output_type": "stream",
     "text": [
      "CORRECT → \n",
      "\t Input : +49174321324\n",
      "\t Gold  : +49 174 321324\n",
      "\t Parsed: +49 174 321324\n",
      "CORRECT → \n",
      "\t Input : 0164883423\n",
      "\t Gold  : +49 164 883423\n",
      "\t Parsed: +49 164 883423\n",
      "CORRECT → \n",
      "\t Input : 0049(0)16483311724\n",
      "\t Gold  : +49 164 83311724\n",
      "\t Parsed: +49 164 83311724\n",
      "CORRECT → \n",
      "\t Input : +49-8332-3010\n",
      "\t Gold  : +49 83323010\n",
      "\t Parsed: +49 83323010\n",
      "CORRECT → \n",
      "\t Input : 00498513994\n",
      "\t Gold  : +49 8513994\n",
      "\t Parsed: +49 8513994\n",
      "CORRECT → \n",
      "\t Input : 0164 5554454\n",
      "\t Gold  : +49 164 5554454\n",
      "\t Parsed: +49 164 5554454\n",
      "CORRECT → \n",
      "\t Input : 0851 509\n",
      "\t Gold  : +49 851509\n",
      "\t Parsed: +49 851509\n",
      "CORRECT → \n",
      "\t Input : 0851 509-0\n",
      "\t Gold  : +49 8515090\n",
      "\t Parsed: +49 8515090\n",
      "CORRECT → \n",
      "\t Input : (0851) 3394\n",
      "\t Gold  : +49 8513394\n",
      "\t Parsed: +49 8513394\n"
     ]
    }
   ],
   "source": [
    "parsed_numbers_correct=[]\n",
    "for i in test_phone_numbers:\n",
    "    pattern = r\"(\\(*\\s*\\+49\\)*\\s*)\\-?\\.?\\s?(\\()?(1)(\\d{2})(\\))?(\\.)?(\\-)?(\\s)?\\(?(\\d{3,6})\\)?|((00490.{3,12})|\\(?(0049))\\)?\\s?\\.?\\-?(\\(?\\.?\\-?(0)?\\.?\\-?\\)?)?(\\(?([1]\\d{2})\\)?\\s?\\.?\\-?|(\\d{3}))?\\(?(\\d{4,11})?\\)?\\s?\\.?\\-?|\\(?([0])\\)?\\s?\\.?\\-?\\(?([1])(\\d{2})\\)?\\.?\\-?\\s?\\(?(\\d{3,7})\\)?|([0])([1])(\\d{2})(\\s)(\\d{3,11})|\\(?(\\+49)\\)?(\\-)?(\\.)?(\\(?)(\\s)?([1-9]\\d{3})(\\))?(-)?(\\.)?(\\s)?(\\d{2,9})|([0])(\\d{2,3})(\\s)?(-)?(\\.)?(\\()?(\\d{3,9})(\\))?(-?\\.?\\(?([0])?\\)?)|((\\(?[0])(\\d{3})(\\)?\\-?))(\\s)?(\\-)?(\\d{4})\"\n",
    "    pattern_gap = r\"\\s{2,8}\"\n",
    "    parsed_numbers = re.sub(pattern, \"+49 \"+\" \"+r\"\\3\"+r\"\\4\"+\" \"+r\"\\9\"+r\"\\20\"+r\"\\21\"+\" \"+r\"\\22\"+r\"\\16\"+\" \"+r\"\\17\"+r\"\\18\"+r\"\\33\"+r\"\\38\"+r\"\\24\"+r\"\\25\"+\" \"+r\"\\27\"+r\"\\40\"+r\"\\45\"+r\"\\48\"+r\"\\51\"+r\"\\55\", i)\n",
    "    parsed_numbers_final = re.sub(pattern_gap, \" \", parsed_numbers)\n",
    "    parsed_numbers_final1=re.sub(r\"\\s$\",\"\",parsed_numbers_final)\n",
    "    parsed_numbers_correct.append(parsed_numbers_final1)\n",
    "validate_phone(parsed_numbers_correct)\n",
    "\n"
   ]
  },
  {
   "cell_type": "markdown",
   "metadata": {},
   "source": [
    "## 1.2 Email Addresses"
   ]
  },
  {
   "cell_type": "code",
   "execution_count": 154,
   "metadata": {},
   "outputs": [],
   "source": [
    "test_emails = [\n",
    "    \"peter.mueller@uni-passau.de\",\n",
    "    \"peter dot mueller at uni-passau dot de\",\n",
    "    \"peter.mueller(at)uni-passau.de\",\n",
    "    \"peter.mueller (at) uni-passau.de\",\n",
    "    \"nefullword@gw.uni-passau.de\",\n",
    "    \"peter (dot) mueller (at) uni-passau (dot) de\",\n",
    "    \"other.host@gmail.com\",\n",
    "    \"special-chars (at) live.com\"\n",
    "]"
   ]
  },
  {
   "cell_type": "code",
   "execution_count": 155,
   "metadata": {},
   "outputs": [],
   "source": [
    "gold_emails = [\n",
    "    \"peter.mueller@uni-passau.de\",\n",
    "    \"peter.mueller@uni-passau.de\",\n",
    "    \"peter.mueller@uni-passau.de\",\n",
    "    \"peter.mueller@uni-passau.de\",\n",
    "    \"nefullword@gw.uni-passau.de\",\n",
    "    \"peter.mueller@uni-passau.de\",\n",
    "    \"other.host@gmail.com\",\n",
    "    \"special-chars@live.com\"\n",
    "]"
   ]
  },
  {
   "cell_type": "code",
   "execution_count": 156,
   "metadata": {},
   "outputs": [],
   "source": [
    "def validate_email(parsed_emails):\n",
    "    for parsed, test, gold in zip(parsed_emails, test_emails, gold_emails):\n",
    "        if parsed != gold:\n",
    "            print(\"WRONG   → \\n\\t Input : {}\\n\\t Gold  : {}\\n\\t Parsed: {}\".format(test, gold, parsed))\n",
    "        else:\n",
    "            print(\"CORRECT → \\n\\t Input : {}\\n\\t Gold  : {}\\n\\t Parsed: {}\".format(test, gold, parsed))"
   ]
  },
  {
   "cell_type": "code",
   "execution_count": 157,
   "metadata": {},
   "outputs": [
    {
     "name": "stdout",
     "output_type": "stream",
     "text": [
      "CORRECT → \n",
      "\t Input : peter.mueller@uni-passau.de\n",
      "\t Gold  : peter.mueller@uni-passau.de\n",
      "\t Parsed: peter.mueller@uni-passau.de\n",
      "CORRECT → \n",
      "\t Input : peter dot mueller at uni-passau dot de\n",
      "\t Gold  : peter.mueller@uni-passau.de\n",
      "\t Parsed: peter.mueller@uni-passau.de\n",
      "CORRECT → \n",
      "\t Input : peter.mueller(at)uni-passau.de\n",
      "\t Gold  : peter.mueller@uni-passau.de\n",
      "\t Parsed: peter.mueller@uni-passau.de\n",
      "CORRECT → \n",
      "\t Input : peter.mueller (at) uni-passau.de\n",
      "\t Gold  : peter.mueller@uni-passau.de\n",
      "\t Parsed: peter.mueller@uni-passau.de\n",
      "CORRECT → \n",
      "\t Input : nefullword@gw.uni-passau.de\n",
      "\t Gold  : nefullword@gw.uni-passau.de\n",
      "\t Parsed: nefullword@gw.uni-passau.de\n",
      "CORRECT → \n",
      "\t Input : peter (dot) mueller (at) uni-passau (dot) de\n",
      "\t Gold  : peter.mueller@uni-passau.de\n",
      "\t Parsed: peter.mueller@uni-passau.de\n",
      "CORRECT → \n",
      "\t Input : other.host@gmail.com\n",
      "\t Gold  : other.host@gmail.com\n",
      "\t Parsed: other.host@gmail.com\n",
      "CORRECT → \n",
      "\t Input : special-chars (at) live.com\n",
      "\t Gold  : special-chars@live.com\n",
      "\t Parsed: special-chars@live.com\n"
     ]
    }
   ],
   "source": [
    "emailList=[]\n",
    "pattern=r\"([a-zA-Z0-9_+-]+)(((\\.)|(\\s*(\\(*(dot)\\)*)\\s*))*((\\()?([a-zA-Z0-9\\s_.+-])*(\\))?)*?)((@)|(\\s*(\\(*(at)\\)*)\\s*))([a-zA-Z0-9-]+)((\\.)|(\\s*(\\(*(dot)\\)*)\\s*))([a-zA-Z0-9-.]+)\"\n",
    "for i in test_emails:\n",
    "    email1=(re.sub(pattern,r\"\\1\"+r\"\\2\"+\"@\"+r\"\\17\"+\".\"+r\"\\23\",i, flags=re.IGNORECASE))\n",
    "    email11=(re.sub(r\"(((\\s\\()|(\\()|(\\s))(dot)((\\)\\s)|(\\))|(\\s)))\",\".\",email1, flags=re.IGNORECASE))\n",
    "    emailList.append(re.sub(r\"\\s?\\(?\\)?\",\"\",email11, flags=re.IGNORECASE))\n",
    "validate_email(emailList)\n"
   ]
  },
  {
   "cell_type": "code",
   "execution_count": null,
   "metadata": {},
   "outputs": [],
   "source": []
  }
 ],
 "metadata": {
  "kernelspec": {
   "display_name": "Python 3",
   "language": "python",
   "name": "python3"
  },
  "language_info": {
   "codemirror_mode": {
    "name": "ipython",
    "version": 3
   },
   "file_extension": ".py",
   "mimetype": "text/x-python",
   "name": "python",
   "nbconvert_exporter": "python",
   "pygments_lexer": "ipython3",
   "version": "3.7.3"
  }
 },
 "nbformat": 4,
 "nbformat_minor": 2
}
